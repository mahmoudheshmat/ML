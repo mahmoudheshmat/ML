{
 "cells": [
  {
   "cell_type": "code",
   "execution_count": 19,
   "metadata": {},
   "outputs": [],
   "source": [
    "import pandas as pd\n",
    "\n",
    "data =pd.read_csv(\"/home/ash/Downloads/all (1)/train.csv\")\n",
    "data2 =pd.read_csv(\"/home/ash/Downloads/all (1)/test.csv\")\n",
    "data=data.fillna(0)\n",
    "data2=data2.fillna(0)\n",
    "gender = {0:0,'male':1,'female':2}\n",
    "emb = {0:0,'C':1,'S':2,'Q':3}\n",
    "data.Sex = [gender[item] for item in data.Sex]\n",
    "data.Embarked = [emb[item] for item in data.Embarked]\n",
    "data2.Sex = [gender[item] for item in data2.Sex]\n",
    "data2.Embarked = [emb[item] for item in data2.Embarked]\n",
    "data['Age']=data['Age'].replace(0,data['Age'].mode())\n",
    "data2['Age']=data['Age'].replace(0,data['Age'].mode())\n",
    "x = data[['Pclass','Sex','Age','SibSp','Parch','Fare','Embarked']]\n",
    "y = data['Survived']\n",
    "test = data2[['Pclass','Sex','Age','SibSp','Parch','Fare','Embarked']]"
   ]
  },
  {
   "cell_type": "code",
   "execution_count": 20,
   "metadata": {},
   "outputs": [],
   "source": [
    "from sklearn.model_selection import train_test_split\n",
    "#train_X, val_X, train_y, val_y = train_test_split(x, y, test_size=0.25, random_state=6)\n",
    "from sklearn.ensemble import RandomForestClassifier\n",
    "from sklearn.metrics import accuracy_score\n",
    "model = RandomForestClassifier(n_estimators=100,criterion='entropy',min_samples_split=5)\n",
    "model.fit(x,y)\n",
    "predicted_labels = model.predict(test)\n",
    "#print(accuracy_score(val_y, predicted_labels))\n",
    "output = pd.DataFrame({'PassengerId': data2.PassengerId,\n",
    "                       'Survived': predicted_labels})\n",
    "\n",
    "output.to_csv('sub2.csv', index=False)"
   ]
  },
  {
   "cell_type": "code",
   "execution_count": null,
   "metadata": {},
   "outputs": [],
   "source": []
  }
 ],
 "metadata": {
  "kernelspec": {
   "display_name": "Python 3",
   "language": "python",
   "name": "python3"
  },
  "language_info": {
   "codemirror_mode": {
    "name": "ipython",
    "version": 3
   },
   "file_extension": ".py",
   "mimetype": "text/x-python",
   "name": "python",
   "nbconvert_exporter": "python",
   "pygments_lexer": "ipython3",
   "version": "3.6.6"
  }
 },
 "nbformat": 4,
 "nbformat_minor": 2
}
