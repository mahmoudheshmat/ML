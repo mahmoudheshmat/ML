{
 "cells": [
  {
   "cell_type": "code",
   "execution_count": 1,
   "metadata": {
    "_cell_guid": "b1076dfc-b9ad-4769-8c92-a6c4dae69d19",
    "_uuid": "8f2839f25d086af736a60e9eeb907d3b93b6e0e5"
   },
   "outputs": [
    {
     "name": "stdout",
     "output_type": "stream",
     "text": [
      "['train.csv', 'sample_submission.csv', 'test.csv', 'data_description.txt']\n"
     ]
    }
   ],
   "source": [
    "# This Python 3 environment comes with many helpful analytics libraries installed\n",
    "# It is defined by the kaggle/python docker image: https://github.com/kaggle/docker-python\n",
    "# For example, here's several helpful packages to load in \n",
    "\n",
    "import numpy as np # linear algebra\n",
    "import pandas # data processing, CSV file I/O (e.g. pd.read_csv)\n",
    "\n",
    "# Input data files are available in the \"../input/\" directory.\n",
    "# For example, running this (by clicking run or pressing Shift+Enter) will list the files in the input directory\n",
    "\n",
    "import os\n",
    "print(os.listdir(\"../input\"))\n",
    "\n",
    "# Any results you write to the current directory are saved as output."
   ]
  },
  {
   "cell_type": "code",
   "execution_count": 2,
   "metadata": {
    "_cell_guid": "79c7e3d0-c299-4dcb-8224-4455121ee9b0",
    "_uuid": "d629ff2d2480ee46fbb7e2d37f6b5fab8052498a"
   },
   "outputs": [],
   "source": [
    "data = pandas.read_csv('../input/train.csv')\n",
    "\n",
    "street = {0:0,'Grvl': 1,'Pave': 2}\n",
    "zone = {0:0,'A': 1,'C (all)': 2,'FV':3,'I':4,'RH':5,'RL':6,'RP':7,'RM':8}\n",
    "alley = {0:0,'Grvl':1,'Pave':2,'NA':0}\n",
    "lot = {0:0,'Reg':1,'IR1':2,'IR2':3,'IR3':4}\n",
    "contour = {0:0,'Lvl':1,'Bnk':2,'HLS':3,'Low':4}\n",
    "utils = {0:0,'AllPub':1,'Nosewr':2,'NoSeWa':3,'ELO':4}\n",
    "lotconfig = {0:0,'Inside':1,'Corner':2,'CulDSac':3,'FR2':4,'FR3':5}\n",
    "landslop = {0:0,'Gtl':1,'Mod':2,'Sev':3}\n",
    "nhd = {0:0,'Blmngtn':1,'Blueste':2,'BrDale':3,'BrkSide':4,'ClearCr':5,'CollgCr':6,'Crawfor':7,'Edwards':8,'Gilbert':9,'IDOTRR':10,'MeadowV':11,'Mitchel':12,'NAmes':13,'NoRidge':14,'NPkVill':15,'NridgHt':16,'NWAmes':17,'OldTown':18,'SWISU':19,'Sawyer':20,'SawyerW':21,'Somerst':22,'StoneBr':23,'Timber':24,'Veenker':25}\n",
    "cond = {0:0,'Artery':1,'Feedr':2,'Norm':3,'RRNn':4,'RRAn':5,'PosN':6,'PosA':7,'RRNe':8,'RRAe':9}\n",
    "btype = {0:0,'1Fam':1,'2fmCon':2,'Duplex':3,'TwnhsE':4,'TwnhsI':5,'Twnhs':6}\n",
    "hstyle = {0:0,'1Story':1,'1.5Fin':2,'1.5Unf':3,'2Story':4,'2.5Fin':5,'2.5Unf':6,'SFoyer':7,'SLvl':8}\n",
    "roof = {0:0,'Flat':1,'Gable':2,'Gambrel':3,'Hip':4,'Mansard':5,'Shed':6}\n",
    "roofmatl = {0:0,'ClyTile':1,'CompShg':2,'Membran':3,'Metal':4,'Roll':5,'Tar&Grv':6,'WdShake':7,'WdShngl':8}\n",
    "ext = {0:0,'AsbShng':1,'AsphShn':2,'BrkComm':3,'Brk Cmn':3,'BrkFace':4,'CBlock':5,'CemntBd':6,'CmentBd':6,'HdBoard':7,'ImStucc':8,'MetalSd':9,'Other':10,'Plywood':11,'PreCast':12,'Stone':13,'Stucco':14,'VinylSd':15,'Wd Shng':16,'Wd Sdng':16,'WdShing':17}\n",
    "mvt = {0:0,'BrkCmn':1,'BrkFace':2,'CBlock':3,'None':4,'Stone':5}\n",
    "eq = {0:0,'Ex':1,'Gd':2,'TA':3,'Fa':4,'Po':5}\n",
    "found = {0:0,'BrkTil':1,'CBlock':2,'PConc':3,'Slab':4,'Stone':5,'Wood':6}\n",
    "bsmt_type = {0:0,'GLQ':1,'ALQ':2,'BLQ':3,'Rec':4,'LwQ':5,'Unf':6}\n",
    "bex = {0:0,'Gd':1,'Av':2,'Mn':3,'No':4}\n",
    "heat = {0:0,'Floor':1,'GasA':2,'GasW':3,'Grav':4,'OthW':5,'Wall':6}\n",
    "yesno = {0:0, 'N':1,'Y':2}\n",
    "elect = {0:0,'SBrkr':1,'FuseA':2,'FuseF':3,'FuseP':4,'Mix':5}\n",
    "func = {0:0,'Typ':1,'Min1':2,'Min2':3,'Mod':4,'Maj1':5,'Maj2':6,'Sev':7,'Sal':8}\n",
    "gt = {0:0,'2Types':1,'Attchd':2,'Basment':3,'BuiltIn':4,'CarPort':5,'Detchd':6}\n",
    "gfin = {0:0,'Fin':1,'RFn':2,'Unf':3}\n",
    "pd = {0:0,'Y':1,'P':2,'N':3}\n",
    "fence = {0:0,'GdPrv':1,'MnPrv':2,'GdWo':3,'MnWw':4}\n",
    "misc = {0:0,'Elev':1,'Gar2':2,'Othr':3,'Shed':4,'TenC':5}\n",
    "stype = {0:0,'WD':1,'CWD':2,'VWD':3,'New':4,'COD':4,'Con':5,'ConLw':6,'ConLI':7,'ConLD':8,'Oth':9}\n",
    "scond = {0:0,'Normal':1,'Abnorml':2,'AdjLand':3,'Alloca':4,'Family':5,'Partial':6}\n",
    "\n",
    "data=data.fillna(0)\n",
    "\n",
    "data.MSZoning = [zone[item] for item in data.MSZoning]\n",
    "data.Alley = [alley[item] for item in data.Alley]\n",
    "data.LotShape = [lot[item] for item in data.LotShape]\n",
    "data.LandContour = [contour[item] for item in data.LandContour]\n",
    "data.Utilities = [utils[item] for item in data.Utilities]\n",
    "data.LotConfig = [lotconfig[item] for item in data.LotConfig]\n",
    "data.LandSlope = [landslop[item] for item in data.LandSlope]\n",
    "data.Neighborhood = [nhd[item] for item in data.Neighborhood]\n",
    "data.Condition1 = [cond[item] for item in data.Condition1]\n",
    "data.Condition2 = [cond[item] for item in data.Condition2]\n",
    "data.BldgType = [btype[item] for item in data.BldgType]\n",
    "data.HouseStyle = [hstyle[item] for item in data.HouseStyle]\n",
    "data.RoofStyle = [roof[item] for item in data.RoofStyle]\n",
    "data.RoofMatl = [roofmatl[item] for item in data.RoofMatl]\n",
    "data.Street = [street[item] for item in data.Street]\n",
    "data.Exterior1st = [ext[item] for item in data.Exterior1st]\n",
    "data.Exterior2nd = [ext[item] for item in data.Exterior2nd]\n",
    "data.MasVnrType = [mvt[item] for item in data.MasVnrType]\n",
    "data.ExterQual = [eq[item] for item in data.ExterQual]\n",
    "data.ExterCond = [eq[item] for item in data.ExterCond]\n",
    "data.Foundation = [found[item] for item in data.Foundation]\n",
    "data.BsmtQual = [eq[item] for item in data.BsmtQual]\n",
    "data.BsmtCond = [eq[item] for item in data.BsmtCond]\n",
    "data.BsmtExposure = [bex[item] for item in data.BsmtExposure]\n",
    "data.BsmtFinType1 = [bsmt_type[item] for item in data.BsmtFinType1]\n",
    "data.BsmtFinType2 = [bsmt_type[item] for item in data.BsmtFinType2]\n",
    "data.Heating = [heat[item] for item in data.Heating]\n",
    "data.HeatingQC = [eq[item] for item in data.HeatingQC]\n",
    "data.CentralAir = [yesno[item] for item in data.CentralAir]\n",
    "data.Electrical = [elect[item] for item in data.Electrical]\n",
    "data.KitchenQual = [eq[item] for item in data.KitchenQual]\n",
    "data.Functional = [func[item] for item in data.Functional]\n",
    "data.FireplaceQu = [eq[item] for item in data.FireplaceQu]\n",
    "data.GarageType = [gt[item] for item in data.GarageType]\n",
    "data.GarageFinish = [gfin[item] for item in data.GarageFinish]\n",
    "data.GarageQual = [eq[item] for item in data.GarageQual]\n",
    "data.GarageCond = [eq[item] for item in data.GarageCond]\n",
    "data.PavedDrive = [pd[item] for item in data.PavedDrive]\n",
    "data.PoolQC = [eq[item] for item in data.PoolQC]\n",
    "data.Fence = [fence[item] for item in data.Fence]\n",
    "data.MiscFeature = [misc[item] for item in data.MiscFeature]\n",
    "data.SaleType = [stype[item] for item in data.SaleType]\n",
    "data.SaleCondition = [scond[item] for item in data.SaleCondition]\n",
    "\n",
    "train_x = data.drop(columns=['Id','SalePrice'])\n",
    "train_y = data[['SalePrice']]"
   ]
  },
  {
   "cell_type": "code",
   "execution_count": 3,
   "metadata": {},
   "outputs": [],
   "source": [
    "#from sklearn.linear_model import LinearRegression\n",
    "from sklearn.ensemble import RandomForestRegressor"
   ]
  },
  {
   "cell_type": "code",
   "execution_count": 4,
   "metadata": {},
   "outputs": [
    {
     "name": "stderr",
     "output_type": "stream",
     "text": [
      "/opt/conda/lib/python3.6/site-packages/sklearn/ensemble/forest.py:245: FutureWarning: The default value of n_estimators will change from 10 in version 0.20 to 100 in 0.22.\n",
      "  \"10 in version 0.20 to 100 in 0.22.\", FutureWarning)\n",
      "/opt/conda/lib/python3.6/site-packages/ipykernel_launcher.py:3: DataConversionWarning: A column-vector y was passed when a 1d array was expected. Please change the shape of y to (n_samples,), for example using ravel().\n",
      "  This is separate from the ipykernel package so we can avoid doing imports until\n"
     ]
    },
    {
     "data": {
      "text/plain": [
       "RandomForestRegressor(bootstrap=True, criterion='mse', max_depth=None,\n",
       "                      max_features='auto', max_leaf_nodes=100,\n",
       "                      min_impurity_decrease=0.0, min_impurity_split=None,\n",
       "                      min_samples_leaf=1, min_samples_split=2,\n",
       "                      min_weight_fraction_leaf=0.0, n_estimators=10,\n",
       "                      n_jobs=None, oob_score=False, random_state=2, verbose=0,\n",
       "                      warm_start=False)"
      ]
     },
     "execution_count": 4,
     "metadata": {},
     "output_type": "execute_result"
    }
   ],
   "source": [
    "#model = LinearRegression()\n",
    "model = RandomForestRegressor(random_state=2,max_leaf_nodes=100)\n",
    "model.fit(train_x,train_y)"
   ]
  },
  {
   "cell_type": "code",
   "execution_count": 5,
   "metadata": {},
   "outputs": [],
   "source": [
    "data = pandas.read_csv('../input/test.csv')\n",
    "\n",
    "street = {0:0,'Grvl': 1,'Pave': 2}\n",
    "zone = {0:0,'A': 1,'C (all)': 2,'FV':3,'I':4,'RH':5,'RL':6,'RP':7,'RM':8}\n",
    "alley = {0:0,'Grvl':1,'Pave':2,'NA':0}\n",
    "lot = {0:0,'Reg':1,'IR1':2,'IR2':3,'IR3':4}\n",
    "contour = {0:0,'Lvl':1,'Bnk':2,'HLS':3,'Low':4}\n",
    "utils = {0:0,'AllPub':1,'Nosewr':2,'NoSeWa':3,'ELO':4}\n",
    "lotconfig = {0:0,'Inside':1,'Corner':2,'CulDSac':3,'FR2':4,'FR3':5}\n",
    "landslop = {0:0,'Gtl':1,'Mod':2,'Sev':3}\n",
    "nhd = {0:0,'Blmngtn':1,'Blueste':2,'BrDale':3,'BrkSide':4,'ClearCr':5,'CollgCr':6,'Crawfor':7,'Edwards':8,'Gilbert':9,'IDOTRR':10,'MeadowV':11,'Mitchel':12,'NAmes':13,'NoRidge':14,'NPkVill':15,'NridgHt':16,'NWAmes':17,'OldTown':18,'SWISU':19,'Sawyer':20,'SawyerW':21,'Somerst':22,'StoneBr':23,'Timber':24,'Veenker':25}\n",
    "cond = {0:0,'Artery':1,'Feedr':2,'Norm':3,'RRNn':4,'RRAn':5,'PosN':6,'PosA':7,'RRNe':8,'RRAe':9}\n",
    "btype = {0:0,'1Fam':1,'2fmCon':2,'Duplex':3,'TwnhsE':4,'TwnhsI':5,'Twnhs':6}\n",
    "hstyle = {0:0,'1Story':1,'1.5Fin':2,'1.5Unf':3,'2Story':4,'2.5Fin':5,'2.5Unf':6,'SFoyer':7,'SLvl':8}\n",
    "roof = {0:0,'Flat':1,'Gable':2,'Gambrel':3,'Hip':4,'Mansard':5,'Shed':6}\n",
    "roofmatl = {0:0,'ClyTile':1,'CompShg':2,'Membran':3,'Metal':4,'Roll':5,'Tar&Grv':6,'WdShake':7,'WdShngl':8}\n",
    "ext = {0:0,'AsbShng':1,'AsphShn':2,'BrkComm':3,'Brk Cmn':3,'BrkFace':4,'CBlock':5,'CemntBd':6,'CmentBd':6,'HdBoard':7,'ImStucc':8,'MetalSd':9,'Other':10,'Plywood':11,'PreCast':12,'Stone':13,'Stucco':14,'VinylSd':15,'Wd Shng':16,'Wd Sdng':16,'WdShing':17}\n",
    "mvt = {0:0,'BrkCmn':1,'BrkFace':2,'CBlock':3,'None':4,'Stone':5}\n",
    "eq = {0:0,'Ex':1,'Gd':2,'TA':3,'Fa':4,'Po':5}\n",
    "found = {0:0,'BrkTil':1,'CBlock':2,'PConc':3,'Slab':4,'Stone':5,'Wood':6}\n",
    "bsmt_type = {0:0,'GLQ':1,'ALQ':2,'BLQ':3,'Rec':4,'LwQ':5,'Unf':6}\n",
    "bex = {0:0,'Gd':1,'Av':2,'Mn':3,'No':4}\n",
    "heat = {0:0,'Floor':1,'GasA':2,'GasW':3,'Grav':4,'OthW':5,'Wall':6}\n",
    "yesno = {0:0, 'N':1,'Y':2}\n",
    "elect = {0:0,'SBrkr':1,'FuseA':2,'FuseF':3,'FuseP':4,'Mix':5}\n",
    "func = {0:0,'Typ':1,'Min1':2,'Min2':3,'Mod':4,'Maj1':5,'Maj2':6,'Sev':7,'Sal':8}\n",
    "gt = {0:0,'2Types':1,'Attchd':2,'Basment':3,'BuiltIn':4,'CarPort':5,'Detchd':6}\n",
    "gfin = {0:0,'Fin':1,'RFn':2,'Unf':3}\n",
    "pd = {0:0,'Y':1,'P':2,'N':3}\n",
    "fence = {0:0,'GdPrv':1,'MnPrv':2,'GdWo':3,'MnWw':4}\n",
    "misc = {0:0,'Elev':1,'Gar2':2,'Othr':3,'Shed':4,'TenC':5}\n",
    "stype = {0:0,'WD':1,'CWD':2,'VWD':3,'New':4,'COD':4,'Con':5,'ConLw':6,'ConLI':7,'ConLD':8,'Oth':9}\n",
    "scond = {0:0,'Normal':1,'Abnorml':2,'AdjLand':3,'Alloca':4,'Family':5,'Partial':6}\n",
    "\n",
    "data=data.fillna(0)\n",
    "\n",
    "data.MSZoning = [zone[item] for item in data.MSZoning]\n",
    "data.Alley = [alley[item] for item in data.Alley]\n",
    "data.LotShape = [lot[item] for item in data.LotShape]\n",
    "data.LandContour = [contour[item] for item in data.LandContour]\n",
    "data.Utilities = [utils[item] for item in data.Utilities]\n",
    "data.LotConfig = [lotconfig[item] for item in data.LotConfig]\n",
    "data.LandSlope = [landslop[item] for item in data.LandSlope]\n",
    "data.Neighborhood = [nhd[item] for item in data.Neighborhood]\n",
    "data.Condition1 = [cond[item] for item in data.Condition1]\n",
    "data.Condition2 = [cond[item] for item in data.Condition2]\n",
    "data.BldgType = [btype[item] for item in data.BldgType]\n",
    "data.HouseStyle = [hstyle[item] for item in data.HouseStyle]\n",
    "data.RoofStyle = [roof[item] for item in data.RoofStyle]\n",
    "data.RoofMatl = [roofmatl[item] for item in data.RoofMatl]\n",
    "data.Street = [street[item] for item in data.Street]\n",
    "data.Exterior1st = [ext[item] for item in data.Exterior1st]\n",
    "data.Exterior2nd = [ext[item] for item in data.Exterior2nd]\n",
    "data.MasVnrType = [mvt[item] for item in data.MasVnrType]\n",
    "data.ExterQual = [eq[item] for item in data.ExterQual]\n",
    "data.ExterCond = [eq[item] for item in data.ExterCond]\n",
    "data.Foundation = [found[item] for item in data.Foundation]\n",
    "data.BsmtQual = [eq[item] for item in data.BsmtQual]\n",
    "data.BsmtCond = [eq[item] for item in data.BsmtCond]\n",
    "data.BsmtExposure = [bex[item] for item in data.BsmtExposure]\n",
    "data.BsmtFinType1 = [bsmt_type[item] for item in data.BsmtFinType1]\n",
    "data.BsmtFinType2 = [bsmt_type[item] for item in data.BsmtFinType2]\n",
    "data.Heating = [heat[item] for item in data.Heating]\n",
    "data.HeatingQC = [eq[item] for item in data.HeatingQC]\n",
    "data.CentralAir = [yesno[item] for item in data.CentralAir]\n",
    "data.Electrical = [elect[item] for item in data.Electrical]\n",
    "data.KitchenQual = [eq[item] for item in data.KitchenQual]\n",
    "data.Functional = [func[item] for item in data.Functional]\n",
    "data.FireplaceQu = [eq[item] for item in data.FireplaceQu]\n",
    "data.GarageType = [gt[item] for item in data.GarageType]\n",
    "data.GarageFinish = [gfin[item] for item in data.GarageFinish]\n",
    "data.GarageQual = [eq[item] for item in data.GarageQual]\n",
    "data.GarageCond = [eq[item] for item in data.GarageCond]\n",
    "data.PavedDrive = [pd[item] for item in data.PavedDrive]\n",
    "data.PoolQC = [eq[item] for item in data.PoolQC]\n",
    "data.Fence = [fence[item] for item in data.Fence]\n",
    "data.MiscFeature = [misc[item] for item in data.MiscFeature]\n",
    "data.SaleType = [stype[item] for item in data.SaleType]\n",
    "data.SaleCondition = [scond[item] for item in data.SaleCondition]\n",
    "\n",
    "test = data.drop(columns=['Id'])\n"
   ]
  },
  {
   "cell_type": "code",
   "execution_count": 6,
   "metadata": {},
   "outputs": [],
   "source": [
    "predictions = model.predict(test)\n",
    "a = pandas.DataFrame(predictions)\n",
    "a.columns = ['SalePrice']\n",
    "output = pandas.DataFrame({'Id': data.Id,\n",
    "                       'SalePrice': a['SalePrice']})\n"
   ]
  },
  {
   "cell_type": "code",
   "execution_count": 7,
   "metadata": {},
   "outputs": [
    {
     "data": {
      "text/html": [
       "<a download=\"data.csv\" href=\"data:text/csv;base64,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\" target=\"_blank\">Download CSV file</a>"
      ],
      "text/plain": [
       "<IPython.core.display.HTML object>"
      ]
     },
     "execution_count": 7,
     "metadata": {},
     "output_type": "execute_result"
    }
   ],
   "source": [
    "from IPython.display import HTML\n",
    "import pandas as pd\n",
    "import numpy as np\n",
    "import base64\n",
    "\n",
    "# function that takes in a dataframe and creates a text link to  \n",
    "# download it (will only work for files < 2MB or so)\n",
    "def create_download_link(df, title = \"Download CSV file\", filename = \"data.csv\"):  \n",
    "    csv = df.to_csv(index=False)\n",
    "    b64 = base64.b64encode(csv.encode())\n",
    "    payload = b64.decode()\n",
    "    html = '<a download=\"{filename}\" href=\"data:text/csv;base64,{payload}\" target=\"_blank\">{title}</a>'\n",
    "    html = html.format(payload=payload,title=title,filename=filename)\n",
    "    return HTML(html)\n",
    "\n",
    "# create a random sample dataframe\n",
    "\n",
    "# create a link to download the dataframe\n",
    "create_download_link(output)"
   ]
  }
 ],
 "metadata": {
  "kernelspec": {
   "display_name": "Python 3",
   "language": "python",
   "name": "python3"
  },
  "language_info": {
   "codemirror_mode": {
    "name": "ipython",
    "version": 3
   },
   "file_extension": ".py",
   "mimetype": "text/x-python",
   "name": "python",
   "nbconvert_exporter": "python",
   "pygments_lexer": "ipython3",
   "version": "3.6.6"
  }
 },
 "nbformat": 4,
 "nbformat_minor": 1
}
